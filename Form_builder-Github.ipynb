{
 "cells": [
  {
   "cell_type": "code",
   "execution_count": null,
   "metadata": {},
   "outputs": [],
   "source": [
    "'''\n",
    "Author: Vighnesh Ghantasala \n",
    "Github: https://github.com/VighneshGhantasala/\n",
    "'''\n",
    "\n",
    "def build_form(align='center',input_tags=1,fname='sample.html'):\n",
    "    f = open(fname,'w+')    \n",
    "    form = \"<div align=\\'\" + align + \"\\'><h1>My Form</h1><form>\"\n",
    "    if input_tags > 0 :\n",
    "        form += \"<br><br><input type='text' />\" * input_tags\n",
    "        form += \"<br><input type='submit' value='submit'>\"\n",
    "    else:\n",
    "        form += \"<br> <h1>NO inputs detected</h1>\"\n",
    "    form += \"</form></div>\" \n",
    "    f.write(\"<html><body>\"+ form+\"</body></html>\")\n",
    "    f.close()    \n"
   ]
  },
  {
   "cell_type": "code",
   "execution_count": null,
   "metadata": {},
   "outputs": [],
   "source": [
    "import cv2,os,webbrowser\n",
    "import numpy as np\n",
    "\n",
    "align = 'center'\n",
    "\n",
    "def extract_form(img):\n",
    "    global align\n",
    "    inp = 0\n",
    "    canny = cv2.adaptiveThreshold(img,255,cv2.ADAPTIVE_THRESH_GAUSSIAN_C,cv2.THRESH_BINARY_INV,11,5)\n",
    "    canny = cv2.dilate(canny,(3,3))\n",
    "    cont, _ = cv2.findContours(canny,cv2.RETR_EXTERNAL,cv2.CHAIN_APPROX_SIMPLE)\n",
    "    for c in cont:\n",
    "        approx = cv2.approxPolyDP(c,0.01 * (cv2.arcLength(c,True)),True)\n",
    "        cv2.drawContours(img,[approx],-1,(255,255,255),5)\n",
    "        x,y,w,h = cv2.boundingRect(approx)\n",
    "    if x+w <=200 :\n",
    "        align = 'left'\n",
    "    elif x+w <=400 :\n",
    "        align = 'center'\n",
    "    else:\n",
    "        align = 'right'\n",
    "    \n",
    "    pts1 = np.float32([[x,y],[x+w,y],[x,y+h],[x+w,y+h]])\n",
    "    pts2 = np.float32([[0,0],[x+w,0],[0,y+h],[x+w,y+h]])\n",
    "\n",
    "    per = cv2.getPerspectiveTransform(pts1,pts2)\n",
    "    res = cv2.warpPerspective(img,per,dsize=(x+w,y+h))\n",
    "    cny = cv2.adaptiveThreshold(res,255,cv2.ADAPTIVE_THRESH_GAUSSIAN_C,cv2.THRESH_BINARY_INV,11,5)\n",
    "    cny = cv2.dilate(cny,(5,5))\n",
    "    cc, _ = cv2.findContours(cny,cv2.RETR_EXTERNAL,cv2.CHAIN_APPROX_SIMPLE)\n",
    "    for c in cc:\n",
    "        approx = cv2.approxPolyDP(c,0.01 * (cv2.arcLength(c,True)),True)\n",
    "        if len(approx) >= 4:\n",
    "            print(approx[0][0],cv2.contourArea(c))\n",
    "            cv2.drawContours(res,[approx],-1,(0,0,255))\n",
    "            inp +=1\n",
    "        else:\n",
    "            inp =0\n",
    "            return align ,inp\n",
    "    return align,inp\n",
    "\n",
    "\n",
    "path = os.listdir(r\"path\\to\\source\\images\\folder\")\n",
    "\n",
    "for i in path:\n",
    "    if i.endswith('png') or i.endswith('jpg'): # add more image formats if you need\n",
    "        fname = os.path.splitext(i)[0] + \".html\"\n",
    "        img = cv2.imread(i)\n",
    "        img = cv2.resize(img,(600,300))\n",
    "        gray = cv2.cvtColor(img,cv2.COLOR_BGR2GRAY)\n",
    "        align,inp = extract_form(gray)\n",
    "        build_form(align,inp,fname)\n",
    "        webbrowser.open(fname)"
   ]
  },
  {
   "cell_type": "code",
   "execution_count": null,
   "metadata": {},
   "outputs": [],
   "source": []
  }
 ],
 "metadata": {
  "kernelspec": {
   "display_name": "Python 3",
   "language": "python",
   "name": "python3"
  },
  "language_info": {
   "codemirror_mode": {
    "name": "ipython",
    "version": 3
   },
   "file_extension": ".py",
   "mimetype": "text/x-python",
   "name": "python",
   "nbconvert_exporter": "python",
   "pygments_lexer": "ipython3",
   "version": "3.7.4"
  }
 },
 "nbformat": 4,
 "nbformat_minor": 2
}
